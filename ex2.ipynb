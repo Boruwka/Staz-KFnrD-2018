{
 "cells": [
  {
   "cell_type": "code",
   "execution_count": null,
   "metadata": {},
   "outputs": [],
   "source": [
    "import torch\n",
    "from torch import nn\n",
    "from torch.nn import Parameter\n",
    "from torch.autograd import Variable\n",
    "import numpy as np\n",
    "import random\n",
    "\n",
    "l_miast = 9\n",
    "l_miesiecy = 12\n",
    "factors = 3\n",
    "\n",
    "months = [\"Jan\", \"Feb\", \"Mar\", \"Apr\", \"May\", \"Jun\", \"Jul\", \"Aug\", \"Sep\", \"Oct\", \"Nov\", \"Dec\"]\n",
    "cities = [\"Toronto\", \"Warsaw\", \"Boston\", \"London\", \"San Francisco\", \"Jerusalem\", \"Mexico\", \"Cape Town\", \"Sydney\"]\n",
    "avg_temp = np.array([\n",
    "    [-5.8, -3.1, 4.5, 6.7, 14.3, 18.2, 20.1, 20.6, 15.9, 11.2, 3.6, -7.2],\n",
    "    [-2.9, 3.6, 4.2, 9.7, 16.1, 19.5, 20.0, 18.8, 16.4, 7.6, 3.2, 1.3],\n",
    "    [0.3, 1.5, 5.9, 8.4, 14.8, 20.2, 24.5, 24.7, 19.7, 13.0, 7.9, 1.9],\n",
    "    [2.3, 6.5, 8.7, 9.2, 12.3, 15.4, 17.3, 20.0, 14.8, 10.8, 8.7, 6.4],\n",
    "    [11.5, 13.9, 14.3, 15.7, 16.3, 17.4, 17.2, 17.7, 18.2, 17.4, 14.6, 10.4],\n",
    "    [9.7, 10.3, 12.7, 15.5, 21.2, 22.1, 24.1, 25.3, 23.5, 20.1, 15.7, 11.8],\n",
    "    [14.0, 15.6, 17.5, 20.3, 20.6, 18.1, 17.6, 18.2, 17.8, 16.8, 14.9, 16.0],\n",
    "    [23.1, 23.3, 21.4, 19.0, 17.1, 15.5, 15.4, 15.6, 15.4, 18.6, 20.9, 21.3],\n",
    "    [23.8, 24.6, 23.4, 20.8, 18.1, 15.1, 14.4, 14.5, 17.3, 19.0, 21.8, 24.3]\n",
    "])"
   ]
  },
  {
   "cell_type": "code",
   "execution_count": null,
   "metadata": {},
   "outputs": [],
   "source": [
    "train_data = torch.zeros(l_miast, l_miesiecy)\n",
    "\n",
    "def wylosuj():\n",
    "\tfor i in range(l_miast):\n",
    "\t\tt = random.sample(range(0, l_miesiecy-1), (l_miesiecy+1)/2)\n",
    "\t\tfor j in t:\n",
    "\t\t\ttrain_data[i][j] = avg_temp[i][j]\n",
    "\t\t\n",
    "\t\t\n",
    "\n",
    "class Factorize(nn.Module):\n",
    "\tdef __init__(self):\n",
    "        \tsuper(Factorize, self).__init__()\n",
    "        \tself.cities_factors = Parameter(torch.Tensor(l_miast, factors))\n",
    "        \tself.months_factors = Parameter(torch.Tensor(l_miesiecy, factors))\n",
    "        def forward(self):\n",
    "        \treturn torch.mm(self.cities_factors, self.months_factors.transpose(0,1))\n",
    "\n",
    "\n",
    "def loss_func(output):\n",
    "\tloss = 0\n",
    "\tfor i in range(l_miast):\n",
    "\t\tfor j in range(l_miesiecy):\n",
    "\t\t\tif train_data[i][j] != 0:\n",
    "\t\t\t\tloss = loss+(train_data[i][j]-output[i][j])*(train_data[i][j]-output[i][j])\n",
    "\treturn loss\t\t\n",
    "\n",
    "def loss_test(pred):\n",
    "\tloss = 0\n",
    "\tfor i in range(l_miast):\n",
    "\t\tfor j in range(l_miesiecy):\n",
    "\t\t\tif train_data[i][j] == 0:\n",
    "\t\t\t\tloss = loss+(avg_temp[i][j]-pred[i][j])*(avg_temp[i][j]-pred[i][j])\n",
    "\treturn loss\n",
    "\n",
    "model = Factorize()\n",
    "optimizer = torch.optim.SGD(list(model.parameters()), lr=1e-3)"
   ]
  },
  {
   "cell_type": "code",
   "execution_count": null,
   "metadata": {},
   "outputs": [],
   "source": [
    "wylosuj()\n",
    "\n",
    "for i in range(1):\n",
    "\toptimizer.zero_grad()\n",
    "\toutput = model()\n",
    "\tloss = loss_func(output)\n",
    "\tprint loss, i\n",
    "\tloss.backward()\n",
    "\toptimizer.step()\n",
    "pred = model().detach().numpy()\n",
    "print loss_test(pred)\n"
   ]
  }
 ],
 "metadata": {
  "kernelspec": {
   "display_name": "Python 2",
   "language": "python",
   "name": "python2"
  },
  "language_info": {
   "codemirror_mode": {
    "name": "ipython",
    "version": 2
   },
   "file_extension": ".py",
   "mimetype": "text/x-python",
   "name": "python",
   "nbconvert_exporter": "python",
   "pygments_lexer": "ipython2",
   "version": "2.7.12"
  }
 },
 "nbformat": 4,
 "nbformat_minor": 2
}
